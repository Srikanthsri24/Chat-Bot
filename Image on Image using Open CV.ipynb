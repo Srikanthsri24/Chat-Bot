{
 "cells": [
  {
   "cell_type": "raw",
   "id": "6b9b716d",
   "metadata": {},
   "source": []
  },
  {
   "cell_type": "code",
   "execution_count": 1,
   "id": "3a2d93ec",
   "metadata": {},
   "outputs": [],
   "source": [
    "import numpy as np\n",
    "import cv2"
   ]
  },
  {
   "cell_type": "code",
   "execution_count": 2,
   "id": "eb06945a",
   "metadata": {},
   "outputs": [],
   "source": [
    "frame = cv2.imread(r\"C:\\Users\\PRASANTH\\Downloads\\sample_single.png\")\n",
    "hsv = cv2.cvtColor(frame, cv2.COLOR_BGR2HSV)"
   ]
  },
  {
   "cell_type": "code",
   "execution_count": 3,
   "id": "6d6e26c2",
   "metadata": {},
   "outputs": [],
   "source": [
    "# define range of green color in HSV\n",
    "lower_green = np.array([25, 52, 72])\n",
    "upper_green = np.array([102, 255, 255])"
   ]
  },
  {
   "cell_type": "code",
   "execution_count": 4,
   "id": "d09c8706",
   "metadata": {},
   "outputs": [],
   "source": [
    "# Threshold the HSV image to get only blue colors\n",
    "mask_white = cv2.inRange(hsv,lower_green, upper_green)\n",
    "mask_black = cv2.bitwise_not(mask_white)"
   ]
  },
  {
   "cell_type": "code",
   "execution_count": 5,
   "id": "6b9c75c2",
   "metadata": {},
   "outputs": [],
   "source": [
    "# Threshold the HSV image to get only blue colors\n",
    "mask_white = cv2.inRange(hsv,lower_green, upper_green)\n",
    "mask_black = cv2.bitwise_not(mask_white)"
   ]
  },
  {
   "cell_type": "code",
   "execution_count": 6,
   "id": "295093d0",
   "metadata": {},
   "outputs": [],
   "source": [
    "#converting mask_black to 3 channels\n",
    "W,L = mask_black.shape\n",
    "mask_black_3CH = np.empty((W, L, 3), dtype=np.uint8)\n",
    "mask_black_3CH[:, :, 0] = mask_black\n",
    "mask_black_3CH[:, :, 1] = mask_black\n",
    "mask_black_3CH[:, :, 2] = mask_black"
   ]
  },
  {
   "cell_type": "code",
   "execution_count": 7,
   "id": "7631de8f",
   "metadata": {},
   "outputs": [],
   "source": [
    "cv2.imshow('orignal',frame)\n",
    "cv2.imshow('mask_black',mask_black_3CH)"
   ]
  },
  {
   "cell_type": "code",
   "execution_count": 8,
   "id": "576d71cf",
   "metadata": {},
   "outputs": [],
   "source": [
    "dst3 = cv2.bitwise_and(mask_black_3CH,frame)\n",
    "cv2.imshow('Pic+mask_inverse',dst3)"
   ]
  },
  {
   "cell_type": "code",
   "execution_count": 9,
   "id": "35c9642c",
   "metadata": {},
   "outputs": [],
   "source": [
    "#///////\n",
    "W,L = mask_white.shape\n",
    "mask_white_3CH = np.empty((W, L, 3), dtype=np.uint8)\n",
    "mask_white_3CH[:, :, 0] = mask_white\n",
    "mask_white_3CH[:, :, 1] = mask_white\n",
    "mask_white_3CH[:, :, 2] = mask_white"
   ]
  },
  {
   "cell_type": "code",
   "execution_count": 10,
   "id": "cd74e712",
   "metadata": {},
   "outputs": [],
   "source": [
    "cv2.imshow('Wh_mask',mask_white_3CH)\n",
    "dst3_wh = cv2.bitwise_or(mask_white_3CH,dst3)\n",
    "cv2.imshow('Pic+mask_wh',dst3_wh)"
   ]
  },
  {
   "cell_type": "code",
   "execution_count": 11,
   "id": "9366bfe6",
   "metadata": {},
   "outputs": [],
   "source": [
    "# changing for design\n",
    "design = cv2.imread(r\"C:\\Users\\PRASANTH\\Downloads\\d_1.jpg\")\n",
    "design = cv2.resize(design, mask_black.shape[1::-1])\n",
    "cv2.imshow('design resize',design)"
   ]
  },
  {
   "cell_type": "code",
   "execution_count": 12,
   "id": "d4924a38",
   "metadata": {},
   "outputs": [],
   "source": [
    "design_mask_mixed = cv2.bitwise_or(mask_black_3CH,design)\n",
    "cv2.imshow('design_mask_mixed',design_mask_mixed)"
   ]
  },
  {
   "cell_type": "code",
   "execution_count": 13,
   "id": "83750a0a",
   "metadata": {},
   "outputs": [],
   "source": [
    "design_mask_mixed = cv2.bitwise_or(mask_black_3CH,design)\n",
    "cv2.imshow('design_mask_mixed',design_mask_mixed)"
   ]
  },
  {
   "cell_type": "code",
   "execution_count": 14,
   "id": "d08b0512",
   "metadata": {},
   "outputs": [],
   "source": [
    "final_mask_black_3CH = cv2.bitwise_and(design_mask_mixed,dst3_wh)\n",
    "cv2.imshow('final_out',final_mask_black_3CH)"
   ]
  },
  {
   "cell_type": "code",
   "execution_count": 15,
   "id": "2762c534",
   "metadata": {},
   "outputs": [
    {
     "data": {
      "text/plain": [
       "-1"
      ]
     },
     "execution_count": 15,
     "metadata": {},
     "output_type": "execute_result"
    }
   ],
   "source": [
    "cv2.waitKey()"
   ]
  },
  {
   "cell_type": "code",
   "execution_count": null,
   "id": "9d9b6e20",
   "metadata": {},
   "outputs": [],
   "source": []
  }
 ],
 "metadata": {
  "kernelspec": {
   "display_name": "Python 3 (ipykernel)",
   "language": "python",
   "name": "python3"
  },
  "language_info": {
   "codemirror_mode": {
    "name": "ipython",
    "version": 3
   },
   "file_extension": ".py",
   "mimetype": "text/x-python",
   "name": "python",
   "nbconvert_exporter": "python",
   "pygments_lexer": "ipython3",
   "version": "3.9.12"
  }
 },
 "nbformat": 4,
 "nbformat_minor": 5
}
